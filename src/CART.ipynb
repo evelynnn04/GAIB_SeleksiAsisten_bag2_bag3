{
 "cells": [
  {
   "cell_type": "code",
   "execution_count": 1,
   "metadata": {},
   "outputs": [],
   "source": [
    "import numpy as np\n",
    "import pandas as pd\n",
    "from sklearn.tree import DecisionTreeClassifier as SKDecisionTreeClassifier\n",
    "from sklearn.metrics import accuracy_score\n"
   ]
  },
  {
   "cell_type": "code",
   "execution_count": 2,
   "metadata": {},
   "outputs": [],
   "source": [
    "def gini(y):\n",
    "    classes, counts = np.unique(y, return_counts=True)\n",
    "    probabilities = counts / counts.sum()\n",
    "    return 1 - np.sum(probabilities**2)\n"
   ]
  },
  {
   "cell_type": "code",
   "execution_count": 3,
   "metadata": {},
   "outputs": [],
   "source": [
    "def information_gain(y, y_left, y_right):\n",
    "    p_left = len(y_left) / len(y)\n",
    "    p_right = len(y_right) / len(y)\n",
    "    \n",
    "    return gini(y) - (p_left * gini(y_left) + p_right * gini(y_right))\n"
   ]
  },
  {
   "cell_type": "code",
   "execution_count": 4,
   "metadata": {},
   "outputs": [],
   "source": [
    "def split_dataset(X, y, feature_index, threshold):\n",
    "    left_mask = X[:, feature_index] <= threshold\n",
    "    right_mask = ~left_mask\n",
    "    return X[left_mask], y[left_mask], X[right_mask], y[right_mask]\n"
   ]
  },
  {
   "cell_type": "code",
   "execution_count": 5,
   "metadata": {},
   "outputs": [],
   "source": [
    "class Node:\n",
    "    def __init__(self, feature_index=None, threshold=None, left=None, right=None, value=None):\n",
    "        self.feature_index = feature_index\n",
    "        self.threshold = threshold\n",
    "        self.left = left\n",
    "        self.right = right\n",
    "        self.value = value\n",
    "\n",
    "    def is_leaf_node(self):\n",
    "        return self.value is not None\n"
   ]
  },
  {
   "cell_type": "code",
   "execution_count": 6,
   "metadata": {},
   "outputs": [],
   "source": [
    "class DecisionTreeClassifier:\n",
    "    def __init__(self, max_depth=None, min_samples_split=2):\n",
    "        self.max_depth = max_depth\n",
    "        self.min_samples_split = min_samples_split\n",
    "        self.root = None\n",
    "\n",
    "    def fit(self, X, y):\n",
    "        self.root = self._grow_tree(X, y)\n",
    "\n",
    "    def _grow_tree(self, X, y, depth=0):\n",
    "        n_samples, n_features = X.shape\n",
    "        n_labels = len(np.unique(y))\n",
    "\n",
    "        # Stopping criteria\n",
    "        if (depth >= self.max_depth or n_labels == 1 or n_samples < self.min_samples_split):\n",
    "            leaf_value = self._most_common_label(y)\n",
    "            return Node(value=leaf_value)\n",
    "\n",
    "        # Greedily select the best split according to information gain\n",
    "        best_feature, best_threshold = self._best_split(X, y, n_features)\n",
    "        \n",
    "        if best_feature is None:\n",
    "            leaf_value = self._most_common_label(y)\n",
    "            return Node(value=leaf_value)\n",
    "\n",
    "        # Split the dataset\n",
    "        X_left, y_left, X_right, y_right = split_dataset(X, y, best_feature, best_threshold)\n",
    "        left_child = self._grow_tree(X_left, y_left, depth + 1)\n",
    "        right_child = self._grow_tree(X_right, y_right, depth + 1)\n",
    "        return Node(best_feature, best_threshold, left_child, right_child)\n",
    "\n",
    "    def _best_split(self, X, y, n_features):\n",
    "        best_gain = -1\n",
    "        split_index, split_threshold = None, None\n",
    "\n",
    "        for feature_index in range(n_features):\n",
    "            thresholds = np.unique(X[:, feature_index])\n",
    "            for threshold in thresholds:\n",
    "                X_left, y_left, X_right, y_right = split_dataset(X, y, feature_index, threshold)\n",
    "                if len(y_left) == 0 or len(y_right) == 0:\n",
    "                    continue\n",
    "\n",
    "                gain = information_gain(y, y_left, y_right)\n",
    "                if gain > best_gain:\n",
    "                    best_gain = gain\n",
    "                    split_index = feature_index\n",
    "                    split_threshold = threshold\n",
    "\n",
    "        return split_index, split_threshold\n",
    "\n",
    "    def _most_common_label(self, y):\n",
    "        return np.bincount(y).argmax()\n",
    "\n",
    "    def predict(self, X):\n",
    "        return np.array([self._traverse_tree(x, self.root) for x in X])\n",
    "\n",
    "    def _traverse_tree(self, x, node):\n",
    "        if node.is_leaf_node():\n",
    "            return node.value\n",
    "\n",
    "        if x[node.feature_index] <= node.threshold:\n",
    "            return self._traverse_tree(x, node.left)\n",
    "        return self._traverse_tree(x, node.right)\n"
   ]
  },
  {
   "cell_type": "code",
   "execution_count": 7,
   "metadata": {},
   "outputs": [
    {
     "name": "stdout",
     "output_type": "stream",
     "text": [
      "Predictions: [0 0 1 1 1 0 1]\n"
     ]
    }
   ],
   "source": [
    "# Example dataset\n",
    "data = {\n",
    "    'feature1': [\"red\", \"green\", \"blue\", \"red\", \"red\", \"blue\", \"green\"],\n",
    "    'feature2': [4, 8, 15, 21, 7, 5, 14],\n",
    "    'label': [0, 0, 1, 1, 1, 0, 1]\n",
    "}\n",
    "\n",
    "df = pd.DataFrame(data)\n",
    "\n",
    "X = df[['feature1', 'feature2']].values\n",
    "y = df['label'].values\n",
    "\n",
    "# Create and train the model\n",
    "clf = DecisionTreeClassifier(max_depth=3)\n",
    "clf.fit(X, y)\n",
    "\n",
    "# Make predictions\n",
    "predictions = clf.predict(X)\n",
    "print(\"Predictions:\", predictions)\n"
   ]
  },
  {
   "cell_type": "code",
   "execution_count": 13,
   "metadata": {},
   "outputs": [
    {
     "data": {
      "text/plain": [
       "array([[ 2,  4],\n",
       "       [ 3,  8],\n",
       "       [10, 15],\n",
       "       [19, 21],\n",
       "       [24,  7],\n",
       "       [ 6,  5],\n",
       "       [ 7, 14]], dtype=int64)"
      ]
     },
     "execution_count": 13,
     "metadata": {},
     "output_type": "execute_result"
    }
   ],
   "source": [
    "X"
   ]
  },
  {
   "cell_type": "code",
   "execution_count": 14,
   "metadata": {},
   "outputs": [
    {
     "data": {
      "text/plain": [
       "array([0, 0, 1, 1, 1, 0, 1], dtype=int64)"
      ]
     },
     "execution_count": 14,
     "metadata": {},
     "output_type": "execute_result"
    }
   ],
   "source": [
    "y"
   ]
  },
  {
   "cell_type": "code",
   "execution_count": 8,
   "metadata": {},
   "outputs": [
    {
     "name": "stdout",
     "output_type": "stream",
     "text": [
      "Predictions: [0 0 1 0 1 0 1]\n"
     ]
    }
   ],
   "source": [
    "test = {\n",
    "    'feature1': [\"blue\", \"green\", \"blue\", \"blue\", \"red\", \"green\", \"green\"],\n",
    "    'feature2': [4, 6, 15, 7, 5, 5, 13],\n",
    "    'label': [0,0,1,1,0,1,0]\n",
    "}\n",
    "\n",
    "dftest = pd.DataFrame(test)\n",
    "\n",
    "X_test = dftest[['feature1', 'feature2']].values\n",
    "\n",
    "# Make predictions\n",
    "predictions = clf.predict(X_test)\n",
    "print(\"Predictions:\", predictions)"
   ]
  },
  {
   "cell_type": "code",
   "execution_count": 9,
   "metadata": {},
   "outputs": [
    {
     "name": "stdout",
     "output_type": "stream",
     "text": [
      "Predictions: [0 0 1 1 1 0 1]\n",
      "Predictions: [0 0 1 1 1 0 1]\n"
     ]
    }
   ],
   "source": [
    "# Example dataset\n",
    "data = {\n",
    "    'feature1': [2, 3, 10, 19, 24, 6, 7],\n",
    "    'feature2': [4, 8, 15, 21, 7, 5, 14],\n",
    "    'label': [0, 0, 1, 1, 1, 0, 1]\n",
    "}\n",
    "\n",
    "df = pd.DataFrame(data)\n",
    "\n",
    "X = df[['feature1', 'feature2']].values\n",
    "y = df['label'].values\n",
    "\n",
    "# Create and train the model\n",
    "clf = DecisionTreeClassifier(max_depth=3)\n",
    "clf.fit(X, y)\n",
    "\n",
    "skclf = SKDecisionTreeClassifier(max_depth=3, criterion=\"gini\")\n",
    "skclf.fit(X, y)\n",
    "\n",
    "# Make predictions\n",
    "predictions = clf.predict(X)\n",
    "print(\"Predictions:\", predictions)\n",
    "\n",
    "skpredictions = clf.predict(X)\n",
    "print(\"Predictions:\", skpredictions)\n"
   ]
  },
  {
   "cell_type": "code",
   "execution_count": 10,
   "metadata": {},
   "outputs": [
    {
     "name": "stdout",
     "output_type": "stream",
     "text": [
      "Custom Decision Tree Accuracy: 1.0\n",
      "scikit-learn Decision Tree Accuracy: 1.0\n"
     ]
    }
   ],
   "source": [
    "accuracy = accuracy_score(y, predictions)\n",
    "skaccuracy = accuracy_score(y, skpredictions)\n",
    "\n",
    "print(f\"Custom Decision Tree Accuracy: {accuracy}\")\n",
    "print(f\"scikit-learn Decision Tree Accuracy: {skaccuracy}\")"
   ]
  },
  {
   "cell_type": "code",
   "execution_count": 11,
   "metadata": {},
   "outputs": [
    {
     "name": "stdout",
     "output_type": "stream",
     "text": [
      "Predictions: [1 1 0 1 0 1 1]\n",
      "Predictions: [1 1 0 1 0 1 1]\n"
     ]
    }
   ],
   "source": [
    "test = {\n",
    "    'feature1': [21, 13, 1, 9, 4, 16, 17],\n",
    "    'feature2': [14, 18, 5, 2, 17, 15, 4],\n",
    "    'label': [0, 1,1,0,0,1,0]\n",
    "}\n",
    "\n",
    "dftest = pd.DataFrame(test)\n",
    "\n",
    "X_test = dftest[['feature1', 'feature2']].values\n",
    "y_test = df['label'].values\n",
    "\n",
    "# Make predictions\n",
    "predictions = clf.predict(X_test)\n",
    "print(\"Predictions:\", predictions)\n",
    "\n",
    "skpredictions = clf.predict(X_test)\n",
    "print(\"Predictions:\", skpredictions)"
   ]
  },
  {
   "cell_type": "code",
   "execution_count": 12,
   "metadata": {},
   "outputs": [
    {
     "name": "stdout",
     "output_type": "stream",
     "text": [
      "Custom Decision Tree Accuracy: 0.2857142857142857\n",
      "scikit-learn Decision Tree Accuracy: 0.2857142857142857\n"
     ]
    }
   ],
   "source": [
    "accuracy = accuracy_score(y_test, predictions)\n",
    "skaccuracy = accuracy_score(y_test, skpredictions)\n",
    "\n",
    "print(f\"Custom Decision Tree Accuracy: {accuracy}\")\n",
    "print(f\"scikit-learn Decision Tree Accuracy: {skaccuracy}\")"
   ]
  }
 ],
 "metadata": {
  "kernelspec": {
   "display_name": "Python 3",
   "language": "python",
   "name": "python3"
  },
  "language_info": {
   "codemirror_mode": {
    "name": "ipython",
    "version": 3
   },
   "file_extension": ".py",
   "mimetype": "text/x-python",
   "name": "python",
   "nbconvert_exporter": "python",
   "pygments_lexer": "ipython3",
   "version": "3.12.0"
  }
 },
 "nbformat": 4,
 "nbformat_minor": 2
}
